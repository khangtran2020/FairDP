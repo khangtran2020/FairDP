{
 "cells": [
  {
   "cell_type": "code",
   "execution_count": 1,
   "id": "87464ec6-4de1-4de9-991b-df82c9cf7b87",
   "metadata": {},
   "outputs": [
    {
     "name": "stderr",
     "output_type": "stream",
     "text": [
      "/Users/khangtran/anaconda3/envs/torch/lib/python3.7/site-packages/tqdm/auto.py:22: TqdmWarning: IProgress not found. Please update jupyter and ipywidgets. See https://ipywidgets.readthedocs.io/en/stable/user_install.html\n",
      "  from .autonotebook import tqdm as notebook_tqdm\n"
     ]
    }
   ],
   "source": [
    "import pandas as pd\n",
    "import numpy as np\n",
    "import matplotlib.pyplot as plt\n",
    "import os\n",
    "import random\n",
    "\n",
    "from sklearn.preprocessing import LabelEncoder\n",
    "from sklearn.model_selection import StratifiedKFold\n",
    "from sklearn.metrics import roc_auc_score, accuracy_score\n",
    "\n",
    "from tqdm import tqdm\n",
    "import torch\n",
    "from torch import nn\n",
    "import torch.nn.functional as F\n",
    "from scipy.optimize import minimize"
   ]
  },
  {
   "cell_type": "markdown",
   "id": "ff5e02a0-6ee5-4f21-ae29-ced640e64c88",
   "metadata": {
    "tags": []
   },
   "source": [
    "## 1. Parameters"
   ]
  },
  {
   "cell_type": "code",
   "execution_count": 2,
   "id": "599d3315-932b-48fd-9b50-e547848bb965",
   "metadata": {},
   "outputs": [],
   "source": [
    "seed = 1\n",
    "folds = 5\n",
    "num_feat = 16\n",
    "epoch = 100\n",
    "# lr = 0.5\n",
    "alpha = 0.5\n",
    "mode = 'fair'\n",
    "num_draw = 100000"
   ]
  },
  {
   "cell_type": "code",
   "execution_count": 3,
   "id": "8681ac89-2bf2-4d48-be52-e167ee265b77",
   "metadata": {},
   "outputs": [],
   "source": [
    "random.seed(seed)\n",
    "os.environ['PYTHONHASHSEED'] = str(seed)\n",
    "np.random.seed(seed)\n",
    "torch.manual_seed(seed)\n",
    "torch.cuda.manual_seed(seed)\n",
    "torch.backends.cudnn.deterministic = True"
   ]
  },
  {
   "cell_type": "markdown",
   "id": "895ccce9-6845-4cea-9eae-3109822fd8e7",
   "metadata": {
    "tags": []
   },
   "source": [
    "## 2. Utils"
   ]
  },
  {
   "cell_type": "code",
   "execution_count": 4,
   "id": "5d3d159a-6e6a-43d6-ba32-bf113754784c",
   "metadata": {},
   "outputs": [],
   "source": [
    "def fold_separation(train_df, folds, feat_cols, label):\n",
    "    skf = StratifiedKFold(n_splits=folds)\n",
    "    train_df['fold'] = np.zeros(train_df.shape[0])\n",
    "    for i, (idxT, idxV) in enumerate(skf.split(train_df[feat_cols], train_df[label])):\n",
    "        train_df.at[idxV, 'fold'] = i"
   ]
  },
  {
   "cell_type": "markdown",
   "id": "6214473a-53b5-4275-ba60-f632113446da",
   "metadata": {
    "tags": []
   },
   "source": [
    "## 3. Read Data"
   ]
  },
  {
   "cell_type": "code",
   "execution_count": 5,
   "id": "107bda3a-91da-42d0-ad24-479ae3aa3d30",
   "metadata": {},
   "outputs": [],
   "source": [
    "df = pd.read_csv('Data/Bank/formated_bank.csv')\n",
    "# df['bias'] = np.ones(df.shape[0])\n",
    "feature_cols = list(df.columns)\n",
    "feature_cols.remove('y')\n",
    "feature_cols.remove('z')\n",
    "feature_cols.remove('label')\n",
    "feature_cols.remove('is_train')\n",
    "feature_cols.remove('intercept')\n",
    "label = 'y'\n",
    "train_df = df[df['is_train'] == 1].reset_index(drop=True).sample(frac = 1)\n",
    "test_df = df[df['is_train'] == 0].reset_index(drop=True).sample(frac = 1)\n",
    "male_df = train_df[train_df['z'] == 1].copy().reset_index(drop=True)\n",
    "female_df = train_df[train_df['z'] == 0].copy().reset_index(drop=True)\n",
    "fold_separation(male_df, folds, feature_cols, label)\n",
    "fold_separation(female_df, folds, feature_cols, label)\n",
    "train_df = pd.concat([male_df, female_df], axis=0).reset_index(drop=True)"
   ]
  },
  {
   "cell_type": "code",
   "execution_count": 6,
   "id": "e1b211f6-06a4-457e-aad1-2b5bbdf4da90",
   "metadata": {},
   "outputs": [
    {
     "data": {
      "text/html": [
       "<div>\n",
       "<style scoped>\n",
       "    .dataframe tbody tr th:only-of-type {\n",
       "        vertical-align: middle;\n",
       "    }\n",
       "\n",
       "    .dataframe tbody tr th {\n",
       "        vertical-align: top;\n",
       "    }\n",
       "\n",
       "    .dataframe thead th {\n",
       "        text-align: right;\n",
       "    }\n",
       "</style>\n",
       "<table border=\"1\" class=\"dataframe\">\n",
       "  <thead>\n",
       "    <tr style=\"text-align: right;\">\n",
       "      <th></th>\n",
       "      <th>age</th>\n",
       "      <th>job</th>\n",
       "      <th>marital</th>\n",
       "      <th>education</th>\n",
       "      <th>default</th>\n",
       "      <th>balance</th>\n",
       "      <th>housing</th>\n",
       "      <th>loan</th>\n",
       "      <th>contact</th>\n",
       "      <th>day</th>\n",
       "      <th>...</th>\n",
       "      <th>campaign</th>\n",
       "      <th>pdays</th>\n",
       "      <th>previous</th>\n",
       "      <th>poutcome</th>\n",
       "      <th>z</th>\n",
       "      <th>label</th>\n",
       "      <th>intercept</th>\n",
       "      <th>y</th>\n",
       "      <th>is_train</th>\n",
       "      <th>fold</th>\n",
       "    </tr>\n",
       "  </thead>\n",
       "  <tbody>\n",
       "    <tr>\n",
       "      <th>0</th>\n",
       "      <td>73</td>\n",
       "      <td>2.078277</td>\n",
       "      <td>0.171004</td>\n",
       "      <td>-1.442665</td>\n",
       "      <td>0.13576</td>\n",
       "      <td>0.307118</td>\n",
       "      <td>1.052817</td>\n",
       "      <td>0.434409</td>\n",
       "      <td>0.408136</td>\n",
       "      <td>1.674430</td>\n",
       "      <td>...</td>\n",
       "      <td>-0.236331</td>\n",
       "      <td>-0.476830</td>\n",
       "      <td>-0.371080</td>\n",
       "      <td>-0.470990</td>\n",
       "      <td>1</td>\n",
       "      <td>1</td>\n",
       "      <td>0.0</td>\n",
       "      <td>1</td>\n",
       "      <td>1</td>\n",
       "      <td>0.0</td>\n",
       "    </tr>\n",
       "    <tr>\n",
       "      <th>1</th>\n",
       "      <td>84</td>\n",
       "      <td>2.078277</td>\n",
       "      <td>-0.795053</td>\n",
       "      <td>-0.420689</td>\n",
       "      <td>0.13576</td>\n",
       "      <td>26.329134</td>\n",
       "      <td>1.052817</td>\n",
       "      <td>0.434409</td>\n",
       "      <td>0.408136</td>\n",
       "      <td>1.435485</td>\n",
       "      <td>...</td>\n",
       "      <td>-0.545439</td>\n",
       "      <td>2.712669</td>\n",
       "      <td>0.562012</td>\n",
       "      <td>0.489414</td>\n",
       "      <td>1</td>\n",
       "      <td>1</td>\n",
       "      <td>0.0</td>\n",
       "      <td>1</td>\n",
       "      <td>1</td>\n",
       "      <td>0.0</td>\n",
       "    </tr>\n",
       "    <tr>\n",
       "      <th>2</th>\n",
       "      <td>61</td>\n",
       "      <td>2.078277</td>\n",
       "      <td>-0.795053</td>\n",
       "      <td>-0.420689</td>\n",
       "      <td>0.13576</td>\n",
       "      <td>-0.424768</td>\n",
       "      <td>1.052817</td>\n",
       "      <td>0.434409</td>\n",
       "      <td>0.681550</td>\n",
       "      <td>1.435485</td>\n",
       "      <td>...</td>\n",
       "      <td>-0.545439</td>\n",
       "      <td>1.371861</td>\n",
       "      <td>0.562012</td>\n",
       "      <td>0.091106</td>\n",
       "      <td>1</td>\n",
       "      <td>0</td>\n",
       "      <td>0.0</td>\n",
       "      <td>0</td>\n",
       "      <td>1</td>\n",
       "      <td>0.0</td>\n",
       "    </tr>\n",
       "    <tr>\n",
       "      <th>3</th>\n",
       "      <td>82</td>\n",
       "      <td>2.078277</td>\n",
       "      <td>-0.795053</td>\n",
       "      <td>-0.420689</td>\n",
       "      <td>0.13576</td>\n",
       "      <td>-0.363090</td>\n",
       "      <td>1.052817</td>\n",
       "      <td>0.434409</td>\n",
       "      <td>0.408136</td>\n",
       "      <td>0.121292</td>\n",
       "      <td>...</td>\n",
       "      <td>-0.545439</td>\n",
       "      <td>-0.476830</td>\n",
       "      <td>-0.371080</td>\n",
       "      <td>-0.470990</td>\n",
       "      <td>1</td>\n",
       "      <td>1</td>\n",
       "      <td>0.0</td>\n",
       "      <td>1</td>\n",
       "      <td>1</td>\n",
       "      <td>0.0</td>\n",
       "    </tr>\n",
       "    <tr>\n",
       "      <th>4</th>\n",
       "      <td>71</td>\n",
       "      <td>-0.097838</td>\n",
       "      <td>-0.795053</td>\n",
       "      <td>1.371580</td>\n",
       "      <td>0.13576</td>\n",
       "      <td>-0.327798</td>\n",
       "      <td>1.052817</td>\n",
       "      <td>0.434409</td>\n",
       "      <td>0.681550</td>\n",
       "      <td>1.316013</td>\n",
       "      <td>...</td>\n",
       "      <td>0.072777</td>\n",
       "      <td>-0.476830</td>\n",
       "      <td>-0.371080</td>\n",
       "      <td>-0.470990</td>\n",
       "      <td>1</td>\n",
       "      <td>1</td>\n",
       "      <td>0.0</td>\n",
       "      <td>1</td>\n",
       "      <td>1</td>\n",
       "      <td>0.0</td>\n",
       "    </tr>\n",
       "  </tbody>\n",
       "</table>\n",
       "<p>5 rows × 22 columns</p>\n",
       "</div>"
      ],
      "text/plain": [
       "   age       job   marital  education  default    balance   housing      loan  \\\n",
       "0   73  2.078277  0.171004  -1.442665  0.13576   0.307118  1.052817  0.434409   \n",
       "1   84  2.078277 -0.795053  -0.420689  0.13576  26.329134  1.052817  0.434409   \n",
       "2   61  2.078277 -0.795053  -0.420689  0.13576  -0.424768  1.052817  0.434409   \n",
       "3   82  2.078277 -0.795053  -0.420689  0.13576  -0.363090  1.052817  0.434409   \n",
       "4   71 -0.097838 -0.795053   1.371580  0.13576  -0.327798  1.052817  0.434409   \n",
       "\n",
       "    contact       day  ...  campaign     pdays  previous  poutcome  z  label  \\\n",
       "0  0.408136  1.674430  ... -0.236331 -0.476830 -0.371080 -0.470990  1      1   \n",
       "1  0.408136  1.435485  ... -0.545439  2.712669  0.562012  0.489414  1      1   \n",
       "2  0.681550  1.435485  ... -0.545439  1.371861  0.562012  0.091106  1      0   \n",
       "3  0.408136  0.121292  ... -0.545439 -0.476830 -0.371080 -0.470990  1      1   \n",
       "4  0.681550  1.316013  ...  0.072777 -0.476830 -0.371080 -0.470990  1      1   \n",
       "\n",
       "   intercept  y  is_train  fold  \n",
       "0        0.0  1         1   0.0  \n",
       "1        0.0  1         1   0.0  \n",
       "2        0.0  0         1   0.0  \n",
       "3        0.0  1         1   0.0  \n",
       "4        0.0  1         1   0.0  \n",
       "\n",
       "[5 rows x 22 columns]"
      ]
     },
     "execution_count": 6,
     "metadata": {},
     "output_type": "execute_result"
    }
   ],
   "source": [
    "male_df.head()"
   ]
  },
  {
   "cell_type": "markdown",
   "id": "49b18e56-675d-4941-95bb-1a2887e25fee",
   "metadata": {},
   "source": [
    "## 4. Normal Logistic Regression (Sklearn)"
   ]
  },
  {
   "cell_type": "code",
   "execution_count": 7,
   "id": "a8a91777-dfc8-495c-b455-de2da740c7bc",
   "metadata": {},
   "outputs": [
    {
     "name": "stdout",
     "output_type": "stream",
     "text": [
      "RUNNING THE L-BFGS-B CODE\n",
      "\n",
      "           * * *\n",
      "\n",
      "Machine precision = 2.220D-16\n",
      " N =           16     M =           10\n",
      "\n",
      "At X0         0 variables are exactly at the bounds\n",
      "\n",
      "At iterate    0    f=  1.89229D+02    |proj g|=  4.93350D+03\n",
      "\n",
      "At iterate   50    f=  1.33082D+02    |proj g|=  3.00376D+01\n",
      "\n",
      "At iterate  100    f=  1.32394D+02    |proj g|=  3.57465D+00\n",
      "\n",
      "           * * *\n",
      "\n",
      "Tit   = total number of iterations\n",
      "Tnf   = total number of function evaluations\n",
      "Tnint = total number of segments explored during Cauchy searches\n",
      "Skip  = number of BFGS updates skipped\n",
      "Nact  = number of active bounds at final generalized Cauchy point\n",
      "Projg = norm of the final projected gradient\n",
      "F     = final function value\n",
      "\n",
      "           * * *\n",
      "\n",
      "   N    Tit     Tnf  Tnint  Skip  Nact     Projg        F\n",
      "   16    100    121      1     0     0   3.575D+00   1.324D+02\n",
      "  F =   132.39432796144797     \n",
      "\n",
      "STOP: TOTAL NO. of ITERATIONS REACHED LIMIT                 \n"
     ]
    },
    {
     "name": "stderr",
     "output_type": "stream",
     "text": [
      "[Parallel(n_jobs=1)]: Using backend SequentialBackend with 1 concurrent workers.\n",
      " This problem is unconstrained.\n",
      "/Users/khangtran/anaconda3/envs/torch/lib/python3.7/site-packages/sklearn/linear_model/_logistic.py:818: ConvergenceWarning: lbfgs failed to converge (status=1):\n",
      "STOP: TOTAL NO. of ITERATIONS REACHED LIMIT.\n",
      "\n",
      "Increase the number of iterations (max_iter) or scale the data as shown in:\n",
      "    https://scikit-learn.org/stable/modules/preprocessing.html\n",
      "Please also refer to the documentation for alternative solver options:\n",
      "    https://scikit-learn.org/stable/modules/linear_model.html#logistic-regression\n",
      "  extra_warning_msg=_LOGISTIC_SOLVER_CONVERGENCE_MSG,\n",
      "[Parallel(n_jobs=1)]: Done   1 out of   1 | elapsed:    0.0s finished\n"
     ]
    },
    {
     "data": {
      "text/plain": [
       "0.7875457875457875"
      ]
     },
     "execution_count": 7,
     "metadata": {},
     "output_type": "execute_result"
    }
   ],
   "source": [
    "from sklearn.linear_model import LogisticRegression\n",
    "from sklearn.metrics import log_loss\n",
    "clf = LogisticRegression(random_state=0, max_iter=epoch, fit_intercept=False, verbose=1).fit(X=male_df[feature_cols].values, y=male_df[label].values)\n",
    "clf.score(X=male_df[feature_cols].values, y=male_df[label].values)"
   ]
  },
  {
   "cell_type": "code",
   "execution_count": 8,
   "id": "82ab6976-916c-4e7c-8d0b-8495b7b300df",
   "metadata": {},
   "outputs": [
    {
     "data": {
      "text/plain": [
       "0.47017630412741335"
      ]
     },
     "execution_count": 8,
     "metadata": {},
     "output_type": "execute_result"
    }
   ],
   "source": [
    "y_pred = clf.predict_proba(X=male_df[feature_cols].values)[:,1]\n",
    "log_loss(y_true=male_df[label], y_pred=y_pred)"
   ]
  },
  {
   "cell_type": "code",
   "execution_count": 9,
   "id": "c3672cf5-8481-459b-95bf-aedb5191261d",
   "metadata": {},
   "outputs": [
    {
     "data": {
      "text/plain": [
       "0.9362363919129082"
      ]
     },
     "execution_count": 9,
     "metadata": {},
     "output_type": "execute_result"
    }
   ],
   "source": [
    "from sklearn.linear_model import LogisticRegression\n",
    "\n",
    "clf = LogisticRegression(random_state=0, max_iter=epoch, fit_intercept=False).fit(X=female_df[feature_cols].values, y=female_df[label].values)\n",
    "clf.score(X=female_df[feature_cols].values, y=female_df[label].values)"
   ]
  },
  {
   "cell_type": "code",
   "execution_count": 10,
   "id": "1fe2c075-c3bd-447a-af2f-68a5f1b8e773",
   "metadata": {},
   "outputs": [
    {
     "data": {
      "text/plain": [
       "0.23368934710215286"
      ]
     },
     "execution_count": 10,
     "metadata": {},
     "output_type": "execute_result"
    }
   ],
   "source": [
    "y_pred = clf.predict_proba(X=female_df[feature_cols].values)[:,1]\n",
    "log_loss(y_true=female_df[label], y_pred=y_pred)"
   ]
  },
  {
   "cell_type": "code",
   "execution_count": 11,
   "id": "d5c6ea2b-23e5-4bb2-bdbf-34957f57940a",
   "metadata": {},
   "outputs": [
    {
     "data": {
      "text/plain": [
       "0.9189058339385137"
      ]
     },
     "execution_count": 11,
     "metadata": {},
     "output_type": "execute_result"
    }
   ],
   "source": [
    "from sklearn.linear_model import LogisticRegression\n",
    "\n",
    "clf = LogisticRegression(random_state=0, max_iter=epoch, fit_intercept=False).fit(X=train_df[feature_cols].values, y=train_df[label].values)\n",
    "clf.score(X=train_df[feature_cols].values, y=train_df[label].values)"
   ]
  },
  {
   "cell_type": "markdown",
   "id": "3e46a1a0-1b02-4fb5-a527-44a32ab37dd5",
   "metadata": {
    "tags": []
   },
   "source": [
    "## 5. Logistic Regression with Taylor approximation"
   ]
  },
  {
   "cell_type": "code",
   "execution_count": 12,
   "id": "a4424470-2d11-44ea-b163-e7103f01b6a5",
   "metadata": {},
   "outputs": [
    {
     "data": {
      "text/plain": [
       "['age',\n",
       " 'job',\n",
       " 'marital',\n",
       " 'education',\n",
       " 'default',\n",
       " 'balance',\n",
       " 'housing',\n",
       " 'loan',\n",
       " 'contact',\n",
       " 'day',\n",
       " 'month',\n",
       " 'duration',\n",
       " 'campaign',\n",
       " 'pdays',\n",
       " 'previous',\n",
       " 'poutcome']"
      ]
     },
     "execution_count": 12,
     "metadata": {},
     "output_type": "execute_result"
    }
   ],
   "source": [
    "feature_cols"
   ]
  },
  {
   "cell_type": "markdown",
   "id": "a3551310-ed2a-4f26-aaf4-80ff4d20db7e",
   "metadata": {},
   "source": [
    "### 5.1 With pytorch"
   ]
  },
  {
   "cell_type": "code",
   "execution_count": 13,
   "id": "02c397d7-739e-4f89-86a2-74cd0e4c832d",
   "metadata": {},
   "outputs": [],
   "source": [
    "# female\n",
    "X_fem = female_df[feature_cols].values\n",
    "y_fem = female_df[label].values.reshape(-1, 1)\n",
    "X_fem = X_fem/np.linalg.norm(X_fem, ord=2, axis=1).reshape(-1, 1)\n",
    "\n",
    "# male\n",
    "X_mal = male_df[feature_cols].values\n",
    "y_mal = male_df[label].values.reshape(-1, 1)\n",
    "X_mal = X_mal/np.linalg.norm(X_mal, ord=2, axis=1).reshape(-1, 1)\n",
    "\n",
    "# train\n",
    "X = train_df[feature_cols].values\n",
    "y = train_df[label].values.reshape(-1, 1)\n",
    "X = X/np.linalg.norm(X, ord=2, axis=1).reshape(-1, 1)"
   ]
  },
  {
   "cell_type": "code",
   "execution_count": 14,
   "id": "50bcad7a-7554-4019-9d74-89738e03d276",
   "metadata": {},
   "outputs": [],
   "source": [
    "def get_coefficient(X, y, epsilon=None, lbda=None, mode='torch'):\n",
    "    num_data_point = X.shape[0]\n",
    "    num_feat = X.shape[1]\n",
    "    sensitivity = num_feat**2/4 + 3*num_feat\n",
    "#     lbda = sensitivity*4/epsilon\n",
    "    coff_0 = 1.0\n",
    "    coff_1 = np.sum(X/2 - X*y, axis = 0).astype(np.float32)\n",
    "    coff_2 = np.dot(X.T, X).astype(np.float32)\n",
    "    noise_1 = np.random.laplace(0.0, sensitivity/epsilon, coff_1.shape).astype(np.float32)\n",
    "    noise_2 = np.random.laplace(0.0, sensitivity/epsilon, coff_2.shape).astype(np.float32)\n",
    "    if mode == 'scipy':\n",
    "        return coff_0, (1/num_data_point)*coff_1.reshape(-1, 1), (1/num_data_point)*coff_2\n",
    "    elif mode == 'scipy_dp':\n",
    "        coff_1 = coff_1.reshape(-1, 1) \n",
    "        coff_1 = coff_1 + noise_1\n",
    "        coff_2 = coff_2 + np.triu(noise_2, k=0) + np.triu(noise_2, k=1).T + lbda*np.identity(num_feat)\n",
    "        return coff_0, (1/num_data_point)*coff_1, (1/num_data_point)*coff_2\n",
    "    elif mode == 'torch' or mode == 'fair':\n",
    "        return coff_0, (1/num_data_point)*torch.from_numpy(coff_1.reshape(-1, 1)), (1/num_data_point)*torch.from_numpy(coff_2)\n",
    "    elif mode == 'func' or mode == 'fairdp':\n",
    "        coff_1 = coff_1 + noise_1\n",
    "        coff_2 = coff_2 + np.triu(noise_2, k=0) + np.triu(noise_2, k=1).T #+ lbda*np.identity(num_feat)\n",
    "        w, V = np.linalg.eig(coff_2)\n",
    "        indx = np.where(w > 0)[0]\n",
    "        w = w[indx].astype(np.float32)\n",
    "        V = V[indx, :].astype(np.float32)\n",
    "        coff_2 = np.identity(len(w))*w.astype(np.float32)\n",
    "        coff_1 = np.dot(coff_1, V.T).astype(np.float32)\n",
    "        return coff_0, (1/num_data_point)*torch.from_numpy(coff_1.reshape(-1, 1)), (1/num_data_point)*torch.from_numpy(coff_2), V, "
   ]
  },
  {
   "cell_type": "code",
   "execution_count": 15,
   "id": "0ec70e84-5638-4a10-902f-b279f5c318f9",
   "metadata": {},
   "outputs": [],
   "source": [
    "eps = 10.0\n",
    "lbd = 0.0\n",
    "lr = 0.05"
   ]
  },
  {
   "cell_type": "code",
   "execution_count": 16,
   "id": "009eb137-1e7c-46c0-af6a-e3be8770ecf3",
   "metadata": {},
   "outputs": [],
   "source": [
    "if (mode == 'func') or (mode =='fairdp'):\n",
    "    f_coff_0, f_coff_1, f_coff_2, Q_f = get_coefficient(X=X_fem, y=y_fem, epsilon=eps, lbda=lbd, mode=mode)\n",
    "    m_coff_0, m_coff_1, m_coff_2, Q_m = get_coefficient(X=X_mal, y=y_mal, epsilon=eps, lbda=lbd, mode=mode)\n",
    "else:\n",
    "    f_coff_0, f_coff_1, f_coff_2 = get_coefficient(X=X_fem, y=y_fem, epsilon=eps, lbda=lbd, mode=mode)\n",
    "    m_coff_0, m_coff_1, m_coff_2 = get_coefficient(X=X_mal, y=y_mal, epsilon=eps, lbda=lbd, mode=mode)"
   ]
  },
  {
   "cell_type": "code",
   "execution_count": 17,
   "id": "6e490354-c518-4b75-8db9-c6cf8ee8311d",
   "metadata": {},
   "outputs": [],
   "source": [
    "def check_symmetric(a, rtol=1e-05, atol=1e-08):\n",
    "    return np.allclose(a, a.T, rtol=rtol, atol=atol)"
   ]
  },
  {
   "cell_type": "code",
   "execution_count": 18,
   "id": "dcf15e3c-f849-4cde-a852-fa5d6446372d",
   "metadata": {},
   "outputs": [
    {
     "name": "stdout",
     "output_type": "stream",
     "text": [
      "True True\n"
     ]
    }
   ],
   "source": [
    "if mode == 'func' or mode == 'fairdp':\n",
    "    print(Q_m.shape, Q_f.shape)\n",
    "print(check_symmetric(m_coff_2),check_symmetric(f_coff_2))"
   ]
  },
  {
   "cell_type": "code",
   "execution_count": 19,
   "id": "2b319efb-46d6-4575-814d-203f809babd1",
   "metadata": {},
   "outputs": [
    {
     "data": {
      "text/plain": [
       "torch.Size([16, 1])"
      ]
     },
     "execution_count": 19,
     "metadata": {},
     "output_type": "execute_result"
    }
   ],
   "source": [
    "f_coff_1.size()"
   ]
  },
  {
   "cell_type": "code",
   "execution_count": 20,
   "id": "844b2349-da17-4767-b15a-55af6269ed5f",
   "metadata": {},
   "outputs": [],
   "source": [
    "if mode == 'fair' or mode == 'fairdp':\n",
    "    model_mal = torch.randn((num_feat, num_draw), requires_grad=True).float()\n",
    "    model_fem = torch.randn((num_feat, num_draw), requires_grad=True).float()\n",
    "else:\n",
    "    model_mal = torch.randn((num_feat, 1), requires_grad=True).float()\n",
    "    model_fem = torch.randn((num_feat, 1), requires_grad=True).float()"
   ]
  },
  {
   "cell_type": "code",
   "execution_count": 21,
   "id": "4fe73ecc-bae8-4c66-b7ac-58d1b639a105",
   "metadata": {},
   "outputs": [
    {
     "name": "stdout",
     "output_type": "stream",
     "text": [
      "torch.Size([16, 100000])\n"
     ]
    }
   ],
   "source": [
    "print(model_mal.size())"
   ]
  },
  {
   "cell_type": "code",
   "execution_count": 22,
   "id": "2dfcea78-8b6a-402c-8cdd-b378527d8c47",
   "metadata": {},
   "outputs": [],
   "source": [
    "noise_m = torch.normal(0, 1, size=model_mal.size(), requires_grad=False).float()\n",
    "noise_f = torch.normal(0, 1, size=model_fem.size(), requires_grad=False).float()\n",
    "# model_mal = model_mal+noise_m\n",
    "# model_fem = model_fem+noise_f\n",
    "if mode == 'func' or mode =='fairdp':\n",
    "    Q_mt = torch.from_numpy(Q_m)\n",
    "    Q_ft = torch.from_numpy(Q_f)"
   ]
  },
  {
   "cell_type": "code",
   "execution_count": 23,
   "id": "3818b65c",
   "metadata": {},
   "outputs": [],
   "source": [
    "def update_one_step(num_draw, model, coff, Q, noise, mode):\n",
    "    if mode == 'fair' or mode == 'fairdp':\n",
    "        coff_0, coff_1, coff_2 = coff\n",
    "        model = model + noise\n",
    "        loss = (1/num_draw)*(coff_0 + torch.sum(torch.mm(model.T, coff_1)) + torch.trace(torch.mm(torch.mm(model.T, coff_2), model)))\n",
    "        model.retain_grad()\n",
    "        loss.backward()\n",
    "    else:\n",
    "        coff_0, coff_1, coff_2 = coff\n",
    "        model = model + noise\n",
    "        loss = (1/num_draw)*(coff_0 + torch.mm(model.T, coff_1) + torch.mm(torch.mm(model.T, coff_2), model))\n",
    "        model.retain_grad()\n",
    "        loss.backward()\n",
    "    return loss.item()"
   ]
  },
  {
   "cell_type": "code",
   "execution_count": null,
   "id": "d76f2ed4-daf5-4731-b3db-0ff7ec36095b",
   "metadata": {},
   "outputs": [
    {
     "name": "stderr",
     "output_type": "stream",
     "text": [
      "  1%|▍                                       | 1/100 [03:19<5:28:31, 199.10s/it]"
     ]
    },
    {
     "name": "stdout",
     "output_type": "stream",
     "text": [
      "2.0135087966918945 2.0088343620300293\n"
     ]
    },
    {
     "name": "stderr",
     "output_type": "stream",
     "text": [
      "  3%|█▏                                      | 3/100 [09:53<5:19:48, 197.82s/it]"
     ]
    }
   ],
   "source": [
    "tk0 = tqdm(range(epoch), total=epoch)\n",
    "for ep in tk0:\n",
    "    if mode == 'torch':\n",
    "        loss_m = m_coff_0 + torch.mm(model_mal.T,m_coff_1) + torch.mm(torch.mm(model_mal.T.float(),m_coff_2.float()), model_mal) # + alpha*torch.norm(torch.mm(Q_mt, model_mal) - torch.mm(Q_ft, model_fem), p=2)\n",
    "        loss_f = f_coff_0 + torch.mm(model_fem.T,f_coff_1) + torch.mm(torch.mm(model_fem.T.float(),f_coff_2.float()), model_fem) # + alpha*torch.norm(torch.mm(Q_mt, model_mal) - torch.mm(Q_ft, model_fem), p=2)\n",
    "        model_mal.retain_grad()\n",
    "        model_fem.retain_grad()\n",
    "        loss_m.backward()\n",
    "        loss_f.backward()\n",
    "    elif mode == 'func':\n",
    "        loss_m = m_coff_0 + torch.mm(torch.mm(Q_mt,model_mal).T,m_coff_1) + torch.mm(torch.mm(torch.mm(Q_mt,model_mal).T.float(),m_coff_2.float()), torch.mm(Q_mt,model_mal)) # + alpha*torch.norm(torch.mm(Q_mt, model_mal) - torch.mm(Q_ft, model_fem), p=2)\n",
    "        loss_f = f_coff_0 + torch.mm(torch.mm(Q_ft,model_fem).T,f_coff_1) + torch.mm(torch.mm(torch.mm(Q_ft,model_fem).T.float(),f_coff_2.float()), torch.mm(Q_ft,model_fem)) # + alpha*torch.norm(torch.mm(Q_mt, model_mal) - torch.mm(Q_ft, model_fem), p=2)\n",
    "        model_mal.retain_grad()\n",
    "        model_fem.retain_grad()\n",
    "        loss_m.backward()\n",
    "        loss_f.backward()\n",
    "    elif mode == 'fair':\n",
    "        loss_mal = 0\n",
    "        loss_fem = 0\n",
    "        noise_m = torch.normal(0, 1, size=model_mal.size(), requires_grad=False).float()\n",
    "        noise_f = torch.normal(0, 1, size=model_fem.size(), requires_grad=False).float()\n",
    "        loss_m = update_one_step(num_draw=num_draw, model=model_mal, coff=(m_coff_0, m_coff_1, m_coff_2), Q=None, noise = noise_m, mode=mode)\n",
    "        loss_f = update_one_step(num_draw=num_draw, model=model_fem, coff=(f_coff_0, f_coff_1, f_coff_2), Q=None, noise = noise_f, mode=mode)\n",
    "        loss_mal = loss_m\n",
    "        loss_fem = loss_f\n",
    "        # loss_mal = loss_mal/num_draw\n",
    "        # loss_fem = loss_fem/num_draw\n",
    "    elif mode == 'fairdp':\n",
    "        for i in range(num_draw):\n",
    "            model_mal = model_mal + torch.normal(0, 1, size=model_mal.size(), requires_grad=False).float()\n",
    "            model_fem = model_fem + torch.normal(0, 1, size=model_fem.size(), requires_grad=False).float()\n",
    "            loss_m = m_coff_0 + torch.mm(torch.mm(Q_mt,model_mal).T,m_coff_1) + torch.mm(torch.mm(torch.mm(Q_mt,model_mal).T.float(),m_coff_2.float()), torch.mm(Q_mt,model_mal)) # + alpha*torch.norm(torch.mm(Q_mt, model_mal) - torch.mm(Q_ft, model_fem), p=2)\n",
    "            loss_f = f_coff_0 + torch.mm(torch.mm(Q_ft,model_fem).T,f_coff_1) + torch.mm(torch.mm(torch.mm(Q_ft,model_fem).T.float(),f_coff_2.float()), torch.mm(Q_ft,model_fem)) # + alpha*torch.norm(torch.mm(Q_mt, model_mal) - torch.mm(Q_ft, model_fem), p=2)\n",
    "            model_mal.retain_grad()\n",
    "            model_fem.retain_grad()\n",
    "            loss_m.backward()\n",
    "            loss_f.backward()\n",
    "    if ep%5 == 0:\n",
    "        print(loss_mal, loss_fem)\n",
    "    with torch.no_grad():\n",
    "        model_mal -= lr * model_mal.grad\n",
    "        model_fem -= lr * model_fem.grad\n",
    "        # model = (model_mal + model_fem)/2\n",
    "        # pred_m = torch.sigmoid(torch.mm(model_mal.T,torch.from_numpy(X_mal.astype(np.float32)).T))\n",
    "        # pred_f = torch.sigmoid(torch.mm(model_fem.T,torch.from_numpy(X_fem.astype(np.float32)).T))\n",
    "        # pred = torch.sigmoid(torch.mm(torch.from_numpy(X.astype(np.float32)), model))\n",
    "#         pred = np.mean(pred.numpy(), axis=1)\n",
    "#         pred_m = np.mean(pred_m.numpy(), axis=1)\n",
    "#         pred_f = np.mean(pred_f.numpy(), axis=1)\n",
    "        \n",
    "#         print(pred.shape, pred_m.shape, pred_f.shape)\n",
    "#         print(\"Train prediction:\", pred)\n",
    "#         print(\"Male prediction:\", pred_m)\n",
    "#         print(\"Female prediction:\", pred_f)\n",
    "\n",
    "\n",
    "        # acc_mal = accuracy_score(y_true=y_mal, y_pred=np.round(pred_m.reshape(-1,1)))\n",
    "        # acc_fem = accuracy_score(y_true=y_fem, y_pred=np.round(pred_f.reshape(-1,1)))\n",
    "        # acc = accuracy_score(y_true=y, y_pred=np.round(pred.reshape(-1,1)))\n",
    "        # if ep%50 == 0:\n",
    "        #     print(\"Epoch {}: loss male {}, loss female {}, acc male {}, acc female {}, train acc {}\".format(ep, loss_m.item(), loss_f.item(), acc_mal, acc_fem, acc))            \n",
    "    model_mal.grad = torch.zeros(model_mal.size())\n",
    "    model_fem.grad = torch.zeros(model_fem.size())"
   ]
  },
  {
   "cell_type": "code",
   "execution_count": null,
   "id": "1cf702b3",
   "metadata": {},
   "outputs": [],
   "source": [
    "# epsilon = [0.1, 1.0, 5.0, 10.0, 50.0]"
   ]
  },
  {
   "cell_type": "code",
   "execution_count": null,
   "id": "d5b68217",
   "metadata": {},
   "outputs": [],
   "source": [
    "# # normal LR\n",
    "# 0.9189058339385137\n",
    "# # With taylor approximation\n",
    "# 0.8900992495763738\n",
    "# # With functional mechanism\n",
    "# performance=[0.41636407649479545, 0.5833938513677076, 0.5952553861050593, 0.6056644880174292, 0.7780198499152747]\n",
    "# # With functional mechanism and smooth classifier"
   ]
  },
  {
   "cell_type": "code",
   "execution_count": null,
   "id": "4ced23f1",
   "metadata": {},
   "outputs": [],
   "source": [
    "# plt.plot(range(len(epsilon)), performance, '-*', label = 'FM')\n",
    "# plt.plot(range(len(epsilon)), np.ones(len(epsilon))*0.9189058339385137, '-o', label = 'no-DP')\n",
    "# plt.plot(range(len(epsilon)), np.ones(len(epsilon))*0.8900992495763738, '-o', label = 'no-DP Taylor approx')\n",
    "# plt.ylabel(r'Accuracy')\n",
    "# plt.xlabel(r'$\\epsilon$')\n",
    "# plt.title('Bank dataset')\n",
    "# plt.xticks(range(len(epsilon)), epsilon)\n",
    "# plt.legend()"
   ]
  },
  {
   "cell_type": "markdown",
   "id": "fbc25bfd-28fd-4191-9960-f15d633c5afe",
   "metadata": {
    "tags": []
   },
   "source": [
    "### 5.1 With scipy"
   ]
  },
  {
   "cell_type": "code",
   "execution_count": null,
   "id": "f9e2fcf9-f421-4afc-8e15-aebcf9f59785",
   "metadata": {},
   "outputs": [],
   "source": [
    "# X = female_df[feature_cols].values\n",
    "# y = female_df[label].values.reshape(-1, 1)\n",
    "\n",
    "# X = X/np.linalg.norm(X, ord=2, axis=1).reshape(-1, 1)\n",
    "# coff_0, coff_1, coff_2 = get_coefficient(X=X, y=y, epsilon=10.0, mode='scipy_dp')\n",
    "# print(coff_1.shape, coff_2.shape)"
   ]
  },
  {
   "cell_type": "code",
   "execution_count": null,
   "id": "8d568a68-b051-4733-bd53-5630135ba97a",
   "metadata": {},
   "outputs": [],
   "source": [
    "# model = np.random.normal(0.0, 1.0, coff_1.shape)\n",
    "# print(model.shape)"
   ]
  },
  {
   "cell_type": "code",
   "execution_count": null,
   "id": "9e2ec9a5-da18-433f-a8cd-0779a05e4e34",
   "metadata": {},
   "outputs": [],
   "source": [
    "# def sigmoid(x):\n",
    "#     return np.exp(x)/(1 + np.exp(x))\n",
    "\n",
    "# def f(w):\n",
    "#     return coff_0 + np.squeeze(np.dot(coff_1.T, w)) + np.sum(coff_2*np.dot(w, w.T))"
   ]
  },
  {
   "cell_type": "code",
   "execution_count": null,
   "id": "d69678d9-8ca2-47eb-95c6-6f6cf494a979",
   "metadata": {},
   "outputs": [],
   "source": [
    "# res = minimize(f, model, method='CG')\n",
    "# print(res)"
   ]
  },
  {
   "cell_type": "code",
   "execution_count": null,
   "id": "de12f1de-6d91-4977-bfb0-df2fb89260dc",
   "metadata": {},
   "outputs": [],
   "source": [
    "# best_model = res['x'].reshape(-1,1)\n",
    "# pred = sigmoid(np.dot(X, best_model))\n",
    "# print(pred.shape)"
   ]
  },
  {
   "cell_type": "code",
   "execution_count": null,
   "id": "692c7449-45ca-4010-a889-5199fb28177d",
   "metadata": {},
   "outputs": [],
   "source": [
    "# acc = accuracy_score(y_true=y, y_pred=np.round(pred))\n",
    "# print(\"Accuracy score: {}\".format(acc))"
   ]
  },
  {
   "cell_type": "code",
   "execution_count": null,
   "id": "d20d3c21-813b-4fe9-8e65-162917f3630b",
   "metadata": {},
   "outputs": [],
   "source": [
    "# X = train_df[feature_cols].values\n",
    "# y = train_df[label].values.reshape(-1, 1)\n",
    "\n",
    "# X = X/np.linalg.norm(X, ord=2, axis=1).reshape(-1, 1)\n",
    "# pred = pred = sigmoid(np.dot(X, best_model))\n",
    "# acc = accuracy_score(y_true=y, y_pred=np.round(pred))\n",
    "# print(\"Accuracy score: {}\".format(acc))"
   ]
  },
  {
   "cell_type": "code",
   "execution_count": null,
   "id": "49ec6ccf-52d0-466a-ac19-5b93076438c8",
   "metadata": {},
   "outputs": [],
   "source": []
  }
 ],
 "metadata": {
  "kernelspec": {
   "display_name": "Python 3 (ipykernel)",
   "language": "python",
   "name": "python3"
  },
  "language_info": {
   "codemirror_mode": {
    "name": "ipython",
    "version": 3
   },
   "file_extension": ".py",
   "mimetype": "text/x-python",
   "name": "python",
   "nbconvert_exporter": "python",
   "pygments_lexer": "ipython3",
   "version": "3.7.13"
  }
 },
 "nbformat": 4,
 "nbformat_minor": 5
}
