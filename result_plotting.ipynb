{
 "cells": [
  {
   "cell_type": "code",
   "execution_count": 1,
   "id": "1f45dc87-ec09-4790-b317-4b513ff38e05",
   "metadata": {},
   "outputs": [],
   "source": [
    "import os\n",
    "import pickle\n",
    "import numpy as np\n",
    "import pandas as pd\n",
    "import matplotlib.pyplot as plt\n",
    "from sklearn.preprocessing import LabelEncoder\n",
    "from scipy.stats import norm\n",
    "plt.rcParams[\"figure.figsize\"] = (5,4)"
   ]
  },
  {
   "cell_type": "code",
   "execution_count": 2,
   "id": "7be79c64-c9fc-4736-8b14-67bb6adc54dc",
   "metadata": {},
   "outputs": [],
   "source": [
    "res_1 = 'results/dict/'\n",
    "res_2 = '../temp/results/dict/'\n",
    "file_name = [res_1 + f for f in os.listdir(res_1)] + [res_2 + f for f in os.listdir(res_2)]"
   ]
  },
  {
   "cell_type": "code",
   "execution_count": 4,
   "id": "be89fcbf-ed28-4bf4-83d4-381c40d13675",
   "metadata": {},
   "outputs": [],
   "source": [
    "clip = 2.0\n",
    "folds = 5\n",
    "lr = 0.5\n",
    "epsilon = [0.5, 1.0, 3.0, 5.0, 7.0, 9.0]\n",
    "noise_scale_bank = [21.75, 11.517, 4.3384, 2.83, 2.1743, 1.8079]\n",
    "noise_scale_adult = [3.55, 1.98, 0.982, 0.794, 0.704, 0.648]"
   ]
  },
  {
   "cell_type": "markdown",
   "id": "2b5dd044-96da-4e02-b3c8-80d77b6856dd",
   "metadata": {
    "jp-MarkdownHeadingCollapsed": true,
    "tags": []
   },
   "source": [
    "### Utils"
   ]
  },
  {
   "cell_type": "code",
   "execution_count": 5,
   "id": "9d62be15-4af3-4fe2-b307-eae6850129ac",
   "metadata": {},
   "outputs": [],
   "source": [
    "def read_pickel(file):\n",
    "    with open(file, 'rb') as f:\n",
    "        res = pickle.load(f)\n",
    "    return res"
   ]
  },
  {
   "cell_type": "code",
   "execution_count": 6,
   "id": "618e3169-8979-4055-a143-6dc8c4e4c9ef",
   "metadata": {},
   "outputs": [],
   "source": [
    "def disperate_impact(male_loader, female_loader, global_model, male_model, female_model, num_male, num_female, device = 'cpu'):\n",
    "    global_model.to(device)\n",
    "    male_model.to(device)\n",
    "    female_model.to(device)\n",
    "\n",
    "    glob_male_out = []\n",
    "    glob_female_out = []\n",
    "    male_outputs = []\n",
    "    female_outputs = []\n",
    "\n",
    "    global_model.eval()\n",
    "    male_model.eval()\n",
    "    female_model.eval()\n",
    "    with torch.no_grad():\n",
    "\n",
    "        for bi, d in enumerate(male_loader):\n",
    "            \n",
    "            features, _, ismale = d\n",
    "            # print(ismale) \n",
    "            \n",
    "            features = features.to(device, dtype=torch.float)\n",
    "\n",
    "            glob_out = global_model(features)\n",
    "            male_out = male_model(features)\n",
    "\n",
    "            glob_out = torch.squeeze(glob_out, dim=-1)\n",
    "            glob_out = glob_out.cpu().detach().numpy()\n",
    "            glob_male_out.extend(glob_out)\n",
    "\n",
    "            male_out = torch.squeeze(male_out, dim=-1)\n",
    "            male_out = male_out.cpu().detach().numpy()\n",
    "            male_outputs.extend(male_out)\n",
    "\n",
    "        for bi, d in enumerate(female_loader):\n",
    "            features, _, ismale = d\n",
    "            # print(ismale)\n",
    "            features = features.to(device, dtype=torch.float)\n",
    "\n",
    "            glob_out = global_model(features)\n",
    "            female_out = female_model(features)\n",
    "\n",
    "            glob_out = torch.squeeze(glob_out, dim=-1)\n",
    "            glob_out = glob_out.cpu().detach().numpy()\n",
    "            glob_female_out.extend(glob_out)\n",
    "\n",
    "            female_out = torch.squeeze(female_out, dim=-1)\n",
    "            female_out = female_out.cpu().detach().numpy()\n",
    "            female_outputs.extend(female_out)\n",
    "\n",
    "    male_outputs = np.array(male_outputs)\n",
    "    glob_male_out = np.array(glob_male_out)\n",
    "    female_outputs = np.array(female_outputs)\n",
    "    glob_female_out = np.array(glob_female_out)\n",
    "\n",
    "    male_norm = np.sum(np.abs(male_outputs - glob_male_out))\n",
    "    female_norm = np.sum(np.abs(female_outputs - glob_female_out))\n",
    "    return male_norm / num_male, female_norm / num_female"
   ]
  },
  {
   "cell_type": "code",
   "execution_count": 7,
   "id": "da39d9e8-a4a2-4185-ab16-e0159fda2960",
   "metadata": {},
   "outputs": [],
   "source": [
    "def get_tilde_sigma(ns, clip, bz1, bz2):\n",
    "    return ns*clip*np.sqrt(1/(bz1**2) + 1/(bz2**2))\n",
    "\n",
    "def expected_bound(ns, clip, num_params, lr):\n",
    "    return 2*lr*clip*np.sqrt(num_params) + lr*num_params*ns*np.sqrt(2)/np.sqrt(np.pi)\n",
    "\n",
    "def worstcase_bound(ns, num_params, lr, alpha=0.05):\n",
    "    return 2*lr*clip*np.sqrt(num_params) + lr*ns*np.sqrt(-2*np.log(alpha)*num_params + 2*num_params**2*np.log(2))"
   ]
  },
  {
   "cell_type": "markdown",
   "id": "55cb0873-cd46-45be-8ab5-8af1ef4b0290",
   "metadata": {
    "tags": []
   },
   "source": [
    "### Read Data"
   ]
  },
  {
   "cell_type": "code",
   "execution_count": null,
   "id": "03333bff-4fad-438a-a741-6a1cb598cecb",
   "metadata": {},
   "outputs": [],
   "source": [
    "df = pd.read_csv('Data/Bank/formated_bank.csv')\n",
    "feature_cols = list(df.columns)\n",
    "feature_cols.remove('y')\n",
    "feature_cols.remove('z')\n",
    "feature_cols.remove('label')\n",
    "feature_cols.remove('is_train')\n",
    "feature_cols.remove('intercept')\n",
    "label = 'y'\n",
    "train_df = df[df['is_train'] == 1].reset_index(drop=True).sample(frac = 1)\n",
    "test_df = df[df['is_train'] == 0].reset_index(drop=True).sample(frac = 1)\n",
    "male_df = test_df[test_df['z'] == 1]\n",
    "female_df = test_df[test_df['z'] == 0]"
   ]
  }
 ],
 "metadata": {
  "kernelspec": {
   "display_name": "Python 3 (ipykernel)",
   "language": "python",
   "name": "python3"
  },
  "language_info": {
   "codemirror_mode": {
    "name": "ipython",
    "version": 3
   },
   "file_extension": ".py",
   "mimetype": "text/x-python",
   "name": "python",
   "nbconvert_exporter": "python",
   "pygments_lexer": "ipython3",
   "version": "3.7.13"
  }
 },
 "nbformat": 4,
 "nbformat_minor": 5
}
