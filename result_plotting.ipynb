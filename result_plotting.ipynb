{
 "cells": [
  {
   "cell_type": "code",
   "execution_count": 1,
   "id": "1f45dc87-ec09-4790-b317-4b513ff38e05",
   "metadata": {},
   "outputs": [],
   "source": [
    "import os\n",
    "import pickle\n",
    "import numpy as np\n",
    "import pandas as pd\n",
    "import matplotlib.pyplot as plt\n",
    "from sklearn.preprocessing import LabelEncoder\n",
    "from scipy.stats import norm\n",
    "plt.rcParams[\"figure.figsize\"] = (5,4)"
   ]
  },
  {
   "cell_type": "code",
   "execution_count": 2,
   "id": "7be79c64-c9fc-4736-8b14-67bb6adc54dc",
   "metadata": {},
   "outputs": [],
   "source": [
    "res_1 = 'results/dict/'\n",
    "res_2 = '../temp/results/dict/'\n",
    "file_name = [res_1 + f for f in os.listdir(res_1)] + [res_2 + f for f in os.listdir(res_2)]"
   ]
  },
  {
   "cell_type": "code",
   "execution_count": 3,
   "id": "be89fcbf-ed28-4bf4-83d4-381c40d13675",
   "metadata": {},
   "outputs": [],
   "source": [
    "clip = 2.0\n",
    "folds = 5\n",
    "lr = 0.5\n",
    "epsilon = [0.5, 1.0, 3.0, 5.0, 7.0, 9.0]\n",
    "ns_ = {\n",
    "    'bank': [21.75, 11.517, 4.3384, 2.83, 2.1743, 1.8079],\n",
    "    'adult': [3.55, 1.98, 0.982, 0.794, 0.704, 0.648]\n",
    "}"
   ]
  },
  {
   "cell_type": "markdown",
   "id": "2b5dd044-96da-4e02-b3c8-80d77b6856dd",
   "metadata": {
    "tags": []
   },
   "source": [
    "### Utils"
   ]
  },
  {
   "cell_type": "code",
   "execution_count": 4,
   "id": "9d62be15-4af3-4fe2-b307-eae6850129ac",
   "metadata": {},
   "outputs": [],
   "source": [
    "def read_pickel(file):\n",
    "    with open(file, 'rb') as f:\n",
    "        res = pickle.load(f)\n",
    "    return res"
   ]
  },
  {
   "cell_type": "code",
   "execution_count": 5,
   "id": "618e3169-8979-4055-a143-6dc8c4e4c9ef",
   "metadata": {},
   "outputs": [],
   "source": [
    "def disperate_impact(male_loader, female_loader, global_model, male_model, female_model, num_male, num_female, device = 'cpu'):\n",
    "    global_model.to(device)\n",
    "    male_model.to(device)\n",
    "    female_model.to(device)\n",
    "\n",
    "    glob_male_out = []\n",
    "    glob_female_out = []\n",
    "    male_outputs = []\n",
    "    female_outputs = []\n",
    "\n",
    "    global_model.eval()\n",
    "    male_model.eval()\n",
    "    female_model.eval()\n",
    "    with torch.no_grad():\n",
    "\n",
    "        for bi, d in enumerate(male_loader):\n",
    "            \n",
    "            features, _, ismale = d\n",
    "            # print(ismale) \n",
    "            \n",
    "            features = features.to(device, dtype=torch.float)\n",
    "\n",
    "            glob_out = global_model(features)\n",
    "            male_out = male_model(features)\n",
    "\n",
    "            glob_out = torch.squeeze(glob_out, dim=-1)\n",
    "            glob_out = glob_out.cpu().detach().numpy()\n",
    "            glob_male_out.extend(glob_out)\n",
    "\n",
    "            male_out = torch.squeeze(male_out, dim=-1)\n",
    "            male_out = male_out.cpu().detach().numpy()\n",
    "            male_outputs.extend(male_out)\n",
    "\n",
    "        for bi, d in enumerate(female_loader):\n",
    "            features, _, ismale = d\n",
    "            # print(ismale)\n",
    "            features = features.to(device, dtype=torch.float)\n",
    "\n",
    "            glob_out = global_model(features)\n",
    "            female_out = female_model(features)\n",
    "\n",
    "            glob_out = torch.squeeze(glob_out, dim=-1)\n",
    "            glob_out = glob_out.cpu().detach().numpy()\n",
    "            glob_female_out.extend(glob_out)\n",
    "\n",
    "            female_out = torch.squeeze(female_out, dim=-1)\n",
    "            female_out = female_out.cpu().detach().numpy()\n",
    "            female_outputs.extend(female_out)\n",
    "\n",
    "    male_outputs = np.array(male_outputs)\n",
    "    glob_male_out = np.array(glob_male_out)\n",
    "    female_outputs = np.array(female_outputs)\n",
    "    glob_female_out = np.array(glob_female_out)\n",
    "\n",
    "    male_norm = np.sum(np.abs(male_outputs - glob_male_out))\n",
    "    female_norm = np.sum(np.abs(female_outputs - glob_female_out))\n",
    "    return male_norm / num_male, female_norm / num_female"
   ]
  },
  {
   "cell_type": "code",
   "execution_count": 6,
   "id": "da39d9e8-a4a2-4185-ab16-e0159fda2960",
   "metadata": {},
   "outputs": [],
   "source": [
    "def get_tilde_sigma(ns, clip, bz1, bz2):\n",
    "    return ns*clip*np.sqrt(1/(bz1**2) + 1/(bz2**2))\n",
    "\n",
    "def expected_bound(ns, clip, num_params, lr):\n",
    "    return 2*lr*clip*np.sqrt(num_params) + lr*num_params*ns*np.sqrt(2)/np.sqrt(np.pi)\n",
    "\n",
    "def worstcase_bound(ns, num_params, lr, alpha=0.05):\n",
    "    return 2*lr*clip*np.sqrt(num_params) + lr*ns*np.sqrt(-2*np.log(alpha)*num_params + 2*num_params**2*np.log(2))"
   ]
  },
  {
   "cell_type": "code",
   "execution_count": 7,
   "id": "11023136-5df8-466f-8f92-5fc2927a0bd2",
   "metadata": {},
   "outputs": [],
   "source": [
    "def plot_performance(dataset, noise_scale, epsilon):\n",
    "    performance_fairdp = []\n",
    "    for ns in noise_scale:\n",
    "        num_file = 0\n",
    "        test_acc = 0\n",
    "        for i, file in enumerate(file_name):\n",
    "            if (dataset in file) and ('sigma_{}'.format(ns) in file) and ('fairdp_track' in file):\n",
    "                res = read_pickel(file=file)\n",
    "                test_acc += res['test_history_acc'][-1]\n",
    "                num_file += 1\n",
    "        performance_fairdp.append(test_acc/num_file)\n",
    "    \n",
    "    performance_dpsgd = []\n",
    "    for ns in noise_scale:\n",
    "        num_file = 0\n",
    "        test_acc = 0\n",
    "        for i, file in enumerate(file_name):\n",
    "            if (dataset in file) and ('sigma_{}'.format(ns) in file) and ('dpsgd' in file):\n",
    "                res = read_pickel(file=file)\n",
    "                test_acc += res['test_history_acc'][-1]\n",
    "                num_file += 1\n",
    "        performance_dpsgd.append(test_acc/num_file)\n",
    "    \n",
    "    performance_func = []\n",
    "    for eps in epsilon:\n",
    "        num_file = 0\n",
    "        test_acc = 0\n",
    "        for i, file in enumerate(file_name):\n",
    "            if (dataset in file) and ('submode_func_org_eps_{}'.format(eps) in file):\n",
    "                res = read_pickel(file=file)\n",
    "                test_acc += res['test_history_acc'][-1]\n",
    "                num_file += 1\n",
    "        performance_func.append(test_acc/num_file)\n",
    "    \n",
    "    plt.plot(range(len(epsilon)), np.ones(len(epsilon))*0.8986206896551724, '-s', label = 'no-DP (clean)')\n",
    "    plt.plot(range(len(epsilon)), performance_dpsgd, '-o', label = 'DPSGD')\n",
    "    plt.plot(range(len(epsilon)), performance_func, '-o', label = 'Functional')\n",
    "    plt.plot(range(len(epsilon)), performance_fairdp, '-*', label = 'FairDP (our)')\n",
    "    plt.ylabel('ACC')\n",
    "    plt.xlabel(r'$\\epsilon$')\n",
    "    plt.title('{} dataset'.format(dataset))\n",
    "    plt.xticks(range(len(epsilon)), epsilon)\n",
    "    plt.legend()"
   ]
  },
  {
   "cell_type": "markdown",
   "id": "55cb0873-cd46-45be-8ab5-8af1ef4b0290",
   "metadata": {
    "tags": []
   },
   "source": [
    "### Read Data"
   ]
  },
  {
   "cell_type": "code",
   "execution_count": 8,
   "id": "03333bff-4fad-438a-a741-6a1cb598cecb",
   "metadata": {
    "jupyter": {
     "source_hidden": true
    },
    "tags": []
   },
   "outputs": [
    {
     "name": "stdout",
     "output_type": "stream",
     "text": [
      "Dataset Bank\n",
      "(4131, 21) (1450, 21) 16\n",
      "0.06608569353667393 0.9339143064633261\n"
     ]
    }
   ],
   "source": [
    "df = pd.read_csv('Data/Bank/formated_bank.csv')\n",
    "feature_cols = list(df.columns)\n",
    "feature_cols.remove('y')\n",
    "feature_cols.remove('z')\n",
    "feature_cols.remove('label')\n",
    "feature_cols.remove('is_train')\n",
    "feature_cols.remove('intercept')\n",
    "label = 'y'\n",
    "train_df = df[df['is_train'] == 1].reset_index(drop=True).sample(frac = 1)\n",
    "test_df = df[df['is_train'] == 0].reset_index(drop=True).sample(frac = 1)\n",
    "male_df = test_df[test_df['z'] == 1]\n",
    "female_df = test_df[test_df['z'] == 0]\n",
    "male_train_df = train_df[train_df['z'] == 1]\n",
    "female_train_df = train_df[train_df['z'] == 0]\n",
    "print(\"Dataset Bank\")\n",
    "print(train_df.shape, test_df.shape, len(feature_cols))\n",
    "print(len(male_train_df)/len(train_df), len(female_train_df)/len(train_df))"
   ]
  },
  {
   "cell_type": "code",
   "execution_count": 9,
   "id": "20befe49-5aa0-4634-961f-76891b2d03c2",
   "metadata": {
    "jupyter": {
     "source_hidden": true
    },
    "tags": []
   },
   "outputs": [
    {
     "name": "stdout",
     "output_type": "stream",
     "text": [
      "Dataset Adult\n",
      "(32561, 43) (16281, 43) 41\n",
      "0.6692054912318418 0.33079450876815825\n"
     ]
    }
   ],
   "source": [
    "header = ['age', 'workclass', 'fnlwgt', 'education', 'education-num', 'marital-status', 'occupation', 'relationship', 'race', 'sex', 'capital-gain', 'capital-loss', 'hours-per-week', 'native-country', 'income']\n",
    "label_dict = {\n",
    "    ' <=50K': '<=50K',\n",
    "    ' >50K': '>50K',\n",
    "    ' <=50K.': '<=50K',\n",
    "    ' >50K.': '>50K'\n",
    "}\n",
    "train_df = pd.read_csv('Data/Adult/adult.data', header=None)\n",
    "test_df = pd.read_csv('Data/Adult/adult.test', skiprows=1, header=None)\n",
    "all_data = pd.concat([train_df, test_df], axis=0)\n",
    "all_data.columns = header\n",
    "def hour_per_week(x):\n",
    "    if x <= 19:\n",
    "        return '0'\n",
    "    elif (x > 19) & (x <= 29):\n",
    "        return '1'\n",
    "    elif (x > 29) & (x <= 39):\n",
    "        return '2'\n",
    "    elif x > 39:\n",
    "        return '3'\n",
    "def age(x):\n",
    "    if x <= 24:\n",
    "        return '0'\n",
    "    elif (x > 24) & (x <= 34):\n",
    "        return '1'\n",
    "    elif (x > 34) & (x <= 44):\n",
    "        return '2'\n",
    "    elif (x > 44) & (x <= 54):\n",
    "        return '3'\n",
    "    elif (x > 54) & (x <= 64):\n",
    "        return '4'\n",
    "    else:\n",
    "        return '5'\n",
    "def country(x):\n",
    "    if x == ' United-States':\n",
    "        return 0\n",
    "    else:\n",
    "        return 1\n",
    "all_data['hours-per-week'] = all_data['hours-per-week'].map(lambda x: hour_per_week(x))\n",
    "all_data['age'] = all_data['age'].map(lambda x: age(x))\n",
    "all_data['native-country'] = all_data['native-country'].map(lambda x: country(x))\n",
    "all_data = all_data.drop(\n",
    "    ['fnlwgt', 'education-num', 'marital-status', 'occupation', 'relationship', 'capital-gain', 'capital-loss'],\n",
    "    axis=1)\n",
    "temp = pd.get_dummies(all_data['age'], prefix='age')\n",
    "all_data = pd.concat([all_data, temp], axis=1)\n",
    "all_data = all_data.drop('age', axis=1)\n",
    "temp = pd.get_dummies(all_data['workclass'], prefix='workclass')\n",
    "all_data = pd.concat([all_data, temp], axis=1)\n",
    "all_data = all_data.drop('workclass', axis=1)\n",
    "temp = pd.get_dummies(all_data['education'], prefix='education')\n",
    "all_data = pd.concat([all_data, temp], axis=1)\n",
    "all_data = all_data.drop('education', axis=1)\n",
    "temp = pd.get_dummies(all_data['race'], prefix='race')\n",
    "all_data = pd.concat([all_data, temp], axis=1)\n",
    "all_data = all_data.drop('race', axis=1)\n",
    "temp = pd.get_dummies(all_data['hours-per-week'], prefix='hour')\n",
    "all_data = pd.concat([all_data, temp], axis=1)\n",
    "all_data = all_data.drop('hours-per-week', axis=1)\n",
    "all_data['income'] = all_data['income'].map(label_dict)\n",
    "lb = LabelEncoder()\n",
    "all_data['sex'] = lb.fit_transform(all_data['sex'].values)\n",
    "lb = LabelEncoder()\n",
    "all_data['income'] = lb.fit_transform(all_data['income'].values)\n",
    "train_df = all_data[:train_df.shape[0]].reset_index(drop=True)\n",
    "test_df = all_data[train_df.shape[0]:].reset_index(drop=True)\n",
    "\n",
    "feature_cols = list(train_df.columns)\n",
    "feature_cols.remove('income')\n",
    "feature_cols.remove('sex')\n",
    "label = 'income'\n",
    "z = 'sex'\n",
    "male_df = train_df[train_df['sex'] == 1].copy()\n",
    "female_df = train_df[train_df['sex'] == 0].copy()\n",
    "print('Dataset Adult')\n",
    "print(train_df.shape, test_df.shape, len(feature_cols))\n",
    "print(len(male_df)/len(train_df), len(female_df)/len(train_df))"
   ]
  },
  {
   "cell_type": "markdown",
   "id": "85ba2902-f54d-4cd3-9f26-5bdab8f570bc",
   "metadata": {
    "tags": []
   },
   "source": [
    "### Plot performance"
   ]
  },
  {
   "cell_type": "code",
   "execution_count": 10,
   "id": "2d2ab40a-d323-4852-833e-54d4d21157d2",
   "metadata": {},
   "outputs": [
    {
     "data": {
      "image/png": "[encoded data removed]",
      "text/plain": [
       "<Figure size 500x400 with 1 Axes>"
      ]
     },
     "metadata": {},
     "output_type": "display_data"
    }
   ],
   "source": [
    "plot_performance(dataset='bank', noise_scale = ns_['bank'], epsilon=epsilon)"
   ]
  },
  {
   "cell_type": "markdown",
   "id": "6dc6c1ba-49b3-4eba-b0dc-9574af286f3b",
   "metadata": {
    "tags": []
   },
   "source": [
    "### Plot Fairness"
   ]
  },
  {
   "cell_type": "code",
   "execution_count": 11,
   "id": "bdcd51a9-320b-41ae-b017-ce332d24c9b8",
   "metadata": {},
   "outputs": [
    {
     "name": "stdout",
     "output_type": "stream",
     "text": [
      "6\n",
      "5\n",
      "5\n",
      "5\n",
      "5\n",
      "5\n"
     ]
    }
   ],
   "source": [
    "file_path = 'results/dict/'\n",
    "file_name = os.listdir(file_path)\n",
    "noise_scale = ns_['bank']\n",
    "disp_func = []\n",
    "for eps in epsilon:\n",
    "    num_file = 0\n",
    "    test_acc = 0\n",
    "    for i, file in enumerate(file_name):\n",
    "        if ('bank_' in file) and ('eps_{}'.format(eps) in file) and ('submode_func' in file):\n",
    "            with open('{}{}'.format(file_path,file), 'rb') as f:\n",
    "                res = pickle.load(f)\n",
    "                # print(res.keys())\n",
    "                test_acc += res['best_disp_imp']\n",
    "                num_file += 1\n",
    "    disp_func.append(test_acc/num_file)\n",
    "    \n",
    "disp_dpsgd = []\n",
    "for ns in noise_scale:\n",
    "    num_file = 0\n",
    "    test_acc = 0\n",
    "    for i, file in enumerate(file_name):\n",
    "        if ('bank_' in file) and ('sigma_{}'.format(ns) in file) and ('fairdp_fold' in file):\n",
    "            # print(file)\n",
    "            with open('{}{}'.format(file_path,file), 'rb') as f:\n",
    "                res = pickle.load(f)\n",
    "                # print(res.keys())\n",
    "                test_acc += res['disp_imp'][-1]\n",
    "                num_file += 1\n",
    "    disp_dpsgd.append(test_acc/num_file)\n",
    "\n",
    "disp_clean = []\n",
    "ns = 183.45\n",
    "num_file = 0\n",
    "test_acc = 0\n",
    "for i, file in enumerate(file_name):\n",
    "    if ('bank_' in file) and ('sigma_{}'.format(ns) in file) and ('fair_fold' in file):\n",
    "        with open('{}{}'.format(file_path,file), 'rb') as f:\n",
    "            res = pickle.load(f)\n",
    "            # print(res.keys())\n",
    "            # print(res['test_history_acc'])\n",
    "            test_acc += res['disp_imp'][-1]\n",
    "            num_file += 1\n",
    "disp_clean.append(test_acc/num_file)\n",
    "\n",
    "file_path_ = '../temp/results/dict/'\n",
    "file_name_ = os.listdir(file_path_)\n",
    "disp_func = []\n",
    "for eps in epsilon:\n",
    "    num_file = 0\n",
    "    test_acc = 0\n",
    "    for i, file in enumerate(file_name_):\n",
    "        if ('bank_' in file) and ('submode_func_eps_{}'.format(eps) in file):\n",
    "            # print(file)\n",
    "            with open('{}{}'.format(file_path_,file), 'rb') as f:\n",
    "                res = pickle.load(f)\n",
    "                # print(res.keys())\n",
    "                test_acc += res['disp_imp'][-1]\n",
    "                num_file += 1\n",
    "    print(num_file)\n",
    "    disp_func.append(test_acc/num_file)"
   ]
  },
  {
   "cell_type": "code",
   "execution_count": 12,
   "id": "5b5bef03-da23-44e4-85ff-51c6c73f9328",
   "metadata": {
    "jupyter": {
     "source_hidden": true
    },
    "tags": []
   },
   "outputs": [
    {
     "name": "stderr",
     "output_type": "stream",
     "text": [
      "/Users/khangtran/anaconda3/envs/torch/lib/python3.7/site-packages/tqdm/auto.py:22: TqdmWarning: IProgress not found. Please update jupyter and ipywidgets. See https://ipywidgets.readthedocs.io/en/stable/user_install.html\n",
      "  from .autonotebook import tqdm as notebook_tqdm\n",
      "/Users/khangtran/anaconda3/envs/torch/lib/python3.7/site-packages/torch/nn/functional.py:1967: UserWarning: nn.functional.sigmoid is deprecated. Use torch.sigmoid instead.\n",
      "  warnings.warn(\"nn.functional.sigmoid is deprecated. Use torch.sigmoid instead.\")\n"
     ]
    }
   ],
   "source": [
    "import torch\n",
    "from torch import nn\n",
    "from torch.utils.data import Dataset\n",
    "from torch.utils.data import DataLoader\n",
    "\n",
    "class NormLogit(nn.Module):\n",
    "    def __init__(self, input_dim, hidden_dim, output_dim):\n",
    "        super(NormLogit, self).__init__()\n",
    "        self.layer_1 = nn.Linear(input_dim, output_dim)\n",
    "    def forward(self, x):\n",
    "        norm = torch.norm(x, dim=-1, keepdim=True).repeat(1, x.size(dim=-1)) + 1e-16\n",
    "        x = torch.div(x, norm)\n",
    "        x = self.layer_1(x)\n",
    "        out = torch.nn.functional.sigmoid(x)\n",
    "        return out\n",
    "\n",
    "\n",
    "class Data(Dataset):\n",
    "    def __init__(self, X, y, ismale):\n",
    "        self.ismale = torch.from_numpy(ismale)\n",
    "        self.X = torch.from_numpy(X.astype(np.float32))\n",
    "        self.y = torch.from_numpy(y.astype(np.float32))\n",
    "        self.len = self.X.shape[0]\n",
    "\n",
    "    def __getitem__(self, index):\n",
    "        return self.X[index], self.y[index], self.ismale[index]\n",
    "\n",
    "    def __len__(self):\n",
    "        return self.len\n",
    "    \n",
    "df = pd.read_csv('Data/Bank/formated_bank.csv')\n",
    "# df['bias'] = np.ones(df.shape[0])\n",
    "feature_cols = list(df.columns)\n",
    "feature_cols.remove('y')\n",
    "feature_cols.remove('z')\n",
    "feature_cols.remove('label')\n",
    "feature_cols.remove('is_train')\n",
    "feature_cols.remove('intercept')\n",
    "label = 'y'\n",
    "train_df = df[df['is_train'] == 1].reset_index(drop=True).sample(frac = 1)\n",
    "test_df = df[df['is_train'] == 0].reset_index(drop=True).sample(frac = 1)\n",
    "male_df = test_df[test_df['z'] == 1]\n",
    "female_df = test_df[test_df['z'] == 0]\n",
    "    \n",
    "    \n",
    "male_dataset = Data(\n",
    "    X=male_df[feature_cols].values,\n",
    "    y=male_df['y'].values,\n",
    "    ismale=male_df['z'].values\n",
    ")\n",
    "\n",
    "female_dataset = Data(\n",
    "    X=female_df[feature_cols].values,\n",
    "    y=female_df['y'].values,\n",
    "    ismale=female_df['z'].values\n",
    ")\n",
    "\n",
    "male_loader = DataLoader(\n",
    "    male_dataset,\n",
    "    batch_size=32,\n",
    "    num_workers=4,\n",
    "    shuffle=False,\n",
    "    pin_memory=True,\n",
    "    drop_last=False,\n",
    ")\n",
    "\n",
    "female_loader = DataLoader(\n",
    "    female_dataset,\n",
    "    batch_size=32,\n",
    "    num_workers=4,\n",
    "    shuffle=False,\n",
    "    pin_memory=True,\n",
    "    drop_last=False,\n",
    ")\n",
    "\n",
    "model_male = NormLogit(16, 2, 1)\n",
    "model_female = NormLogit(16, 2, 1)\n",
    "global_model = NormLogit(16, 2,1)\n",
    "global_model_ = NormLogit(16, 2,1)\n",
    "\n",
    "model_path = 'results/models/'\n",
    "model_name = os.listdir(model_path)\n",
    "ns_date = {}\n",
    "for ns in noise_scale:\n",
    "    date = []\n",
    "    for i, file in enumerate(model_name):\n",
    "        if ('bank_' in file) and ('sigma_{}'.format(ns) in file) and ('fairdp_track' in file):\n",
    "            date.append('_'.join(file.split('_')[-2:]))\n",
    "    ns_date[ns] = set(date)\n",
    "\n",
    "disp_imp_fairdp = []\n",
    "# disp_imp_dpsgd = []\n",
    "for ns in noise_scale:\n",
    "    date = ns_date[ns]\n",
    "    disp = 0\n",
    "    num_file = 0\n",
    "    for d in date:\n",
    "        model_female.load_state_dict(torch.load('results/models/female_bank_fairdp_track_fold_0_sigma_{}_C_2.0_epochs_1250_{}'.format(ns, d), map_location='cpu'))\n",
    "        model_male.load_state_dict(torch.load('results/models/male_bank_fairdp_track_fold_0_sigma_{}_C_2.0_epochs_1250_{}'.format(ns, d), map_location='cpu'))\n",
    "        global_model.load_state_dict(torch.load('results/models/bank_fairdp_track_fold_0_sigma_{}_C_2.0_epochs_1250_{}'.format(ns, d), map_location='cpu'))\n",
    "        male_norm, female_norm = disperate_impact(male_loader=male_loader, female_loader=female_loader, global_model = global_model, male_model = model_male, female_model = model_female, num_male=117, num_female=1333)\n",
    "        disp += max(male_norm, female_norm)\n",
    "        num_file += 1\n",
    "    # print(disp/num_file)\n",
    "    disp_imp_fairdp.append(disp/num_file)"
   ]
  },
  {
   "cell_type": "code",
   "execution_count": 13,
   "id": "1d2f92ee-d253-4009-b923-efa5de3b5dea",
   "metadata": {},
   "outputs": [],
   "source": [
    "def bellet_bound(num_params, ns, alpha):\n",
    "    return 4*num_params*ns**2*np.log(2/alpha)"
   ]
  },
  {
   "cell_type": "code",
   "execution_count": 14,
   "id": "01d71735-5ff1-44ad-867a-d7c79dc907cf",
   "metadata": {},
   "outputs": [
    {
     "data": {
      "text/plain": [
       "16"
      ]
     },
     "execution_count": 14,
     "metadata": {},
     "output_type": "execute_result"
    }
   ],
   "source": [
    "len(feature_cols)"
   ]
  },
  {
   "cell_type": "code",
   "execution_count": 15,
   "id": "68b6f082-acf6-4ef7-a4f8-1c78d52691cf",
   "metadata": {},
   "outputs": [],
   "source": [
    "clip = 2.0\n",
    "tbound = []\n",
    "wbound = []\n",
    "bbound = []\n",
    "for i, ns in enumerate(noise_scale):\n",
    "    tilde_sigma = get_tilde_sigma(ns=ns, clip=clip, bz1=245, bz2=17)\n",
    "    bbound.append(bellet_bound(num_params = len(feature_cols), ns=ns, alpha=0.95))\n",
    "    tbound.append(expected_bound(ns=tilde_sigma, clip=clip, num_params=len(feature_cols), lr = 0.0104))\n",
    "    wbound.append(worstcase_bound(ns=tilde_sigma, num_params=len(feature_cols), lr = 0.0104))"
   ]
  },
  {
   "cell_type": "code",
   "execution_count": 16,
   "id": "fa763037-8455-4015-af57-81264294b424",
   "metadata": {},
   "outputs": [
    {
     "data": {
      "text/plain": [
       "<matplotlib.legend.Legend at 0x7fac105687d0>"
      ]
     },
     "execution_count": 16,
     "metadata": {},
     "output_type": "execute_result"
    },
    {
     "data": {
      "image/png": "[encoded data removed]",
      "text/plain": [
       "<Figure size 500x400 with 1 Axes>"
      ]
     },
     "metadata": {},
     "output_type": "display_data"
    }
   ],
   "source": [
    "plt.plot(range(len(epsilon)), np.ones(len(epsilon))*0.21288373080166903, '-o', label = 'no-DP (clean)')\n",
    "plt.plot(range(len(epsilon)), disp_dpsgd, '-o', label = 'DPSGD')\n",
    "plt.plot(range(len(epsilon)), disp_func, '-o', label = 'Functional')\n",
    "plt.plot(range(len(epsilon)), disp_imp_fairdp, '-*', label = 'FairDP (our)')\n",
    "plt.plot(range(len(epsilon)), tbound, '--*', label = 'Expected bound')\n",
    "plt.plot(range(len(epsilon)), wbound, '--*', label = 'Worst case bound (0.95)')\n",
    "# plt.fill_between(range(len(epsilon)), np.ones(len(epsilon))*0.21288373080166903 - np.array(bbound), np.ones(len(epsilon))*0.21288373080166903 + np.array(bbound), alpha=0.2, label='bellet box')\n",
    "plt.ylabel(r'$L_1$-norm')\n",
    "plt.xlabel(r'$\\epsilon$')\n",
    "plt.title('Bank dataset')\n",
    "plt.xticks(range(len(epsilon)), epsilon)\n",
    "plt.legend(bbox_to_anchor=(1, 0.75))"
   ]
  },
  {
   "cell_type": "code",
   "execution_count": null,
   "id": "32b4dcac-a7fc-4825-a94d-8c21bb1cf233",
   "metadata": {},
   "outputs": [],
   "source": []
  }
 ],
 "metadata": {
  "kernelspec": {
   "display_name": "Python 3 (ipykernel)",
   "language": "python",
   "name": "python3"
  },
  "language_info": {
   "codemirror_mode": {
    "name": "ipython",
    "version": 3
   },
   "file_extension": ".py",
   "mimetype": "text/x-python",
   "name": "python",
   "nbconvert_exporter": "python",
   "pygments_lexer": "ipython3",
   "version": "3.7.13"
  }
 },
 "nbformat": 4,
 "nbformat_minor": 5
}
